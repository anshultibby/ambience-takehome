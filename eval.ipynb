{
 "cells": [
  {
   "cell_type": "code",
   "execution_count": 141,
   "metadata": {},
   "outputs": [],
   "source": [
    "import pandas as pd\n",
    "import ast\n",
    "import matplotlib.pyplot as plt\n",
    "import seaborn as sns\n",
    "import numpy as np\n",
    "\n",
    "from dotenv import load_dotenv\n",
    "import os\n",
    "\n",
    "load_dotenv()\n",
    "openai_api_key = os.getenv(\"OPENAI_API_KEY\")\n"
   ]
  },
  {
   "cell_type": "code",
   "execution_count": null,
   "metadata": {},
   "outputs": [
    {
     "name": "stdout",
     "output_type": "stream",
     "text": [
      "Found 0 failed entries to reprocess: []\n"
     ]
    }
   ],
   "source": [
    "# Load existing entries\n",
    "try:\n",
    "    existing_df = pd.read_csv(\"test_run_1.csv\")\n",
    "    entries = existing_df[\"entries\"].tolist() if \"entries\" in existing_df.columns else [None] * len(df)\n",
    "except:\n",
    "    entries = [None] * len(df)\n",
    "\n",
    "# Find indices that have empty lists (failed entries)\n",
    "failed_indices = []\n",
    "for i, entry in enumerate(entries):\n",
    "    if entry == \"[]\" or entry is None:\n",
    "        failed_indices.append(i)\n",
    "\n",
    "print(f\"Found {len(failed_indices)} failed entries to reprocess: {failed_indices}\")\n",
    "\n",
    "# Reprocess only the failed indices\n",
    "for index in failed_indices:\n",
    "    try:\n",
    "        print(f\"Reprocessing failed index {index}\")\n",
    "        entries[index] = get_icd10_codes(df.transcript.iloc[index])\n",
    "        print(f\"Successfully processed index {index}\")\n",
    "    except Exception as e:\n",
    "        print(f\"Error reprocessing index {index}: {e}\")\n",
    "        entries[index] = []  # Keep as empty list if it fails again\n",
    "\n",
    "    # Save after each iteration\n",
    "    temp_df = df.copy()\n",
    "    temp_df[\"entries\"] = entries\n",
    "    temp_df.to_csv(\"test_run_1.csv\", index=False)\n",
    "    print(f\"Saved progress: {failed_indices.index(index) + 1}/{len(failed_indices)} failed entries processed\")"
   ]
  },
  {
   "cell_type": "code",
   "execution_count": null,
   "metadata": {},
   "outputs": [
    {
     "name": "stdout",
     "output_type": "stream",
     "text": [
      "Found 0 failed entries to reprocess: []\n"
     ]
    }
   ],
   "source": [
    "# Load existing entries\n",
    "try:\n",
    "    existing_df = pd.read_csv(\"test_run_1.csv\")\n",
    "    entries = existing_df[\"entries\"].tolist() if \"entries\" in existing_df.columns else [None] * len(df)\n",
    "except:\n",
    "    entries = [None] * len(df)\n",
    "\n",
    "# Find indices that have empty lists (failed entries)\n",
    "failed_indices = []\n",
    "for i, entry in enumerate(entries):\n",
    "    if entry == \"[]\" or entry is None:\n",
    "        failed_indices.append(i)\n",
    "\n",
    "print(f\"Found {len(failed_indices)} failed entries to reprocess: {failed_indices}\")\n",
    "\n",
    "# Reprocess only the failed indices\n",
    "for index in failed_indices:\n",
    "    try:\n",
    "        print(f\"Reprocessing failed index {index}\")\n",
    "        entries[index] = get_icd10_codes(df.transcript.iloc[index])\n",
    "        print(f\"Successfully processed index {index}\")\n",
    "    except Exception as e:\n",
    "        print(f\"Error reprocessing index {index}: {e}\")\n",
    "        entries[index] = []  # Keep as empty list if it fails again\n",
    "\n",
    "    # Save after each iteration\n",
    "    temp_df = df.copy()\n",
    "    temp_df[\"entries\"] = entries\n",
    "    temp_df.to_csv(\"test_run_1.csv\", index=False)\n",
    "    print(f\"Saved progress: {failed_indices.index(index) + 1}/{len(failed_indices)} failed entries processed\")"
   ]
  },
  {
   "cell_type": "code",
   "execution_count": 142,
   "metadata": {},
   "outputs": [
    {
     "data": {
      "text/plain": [
       "Index(['encounter_id', 'age', 'age_unit', 'sex', 'visit_reason',\n",
       "       'reference_answer', 'transcript', 'entries', 'confidence_summary',\n",
       "       'cleaned_transcript'],\n",
       "      dtype='object')"
      ]
     },
     "execution_count": 142,
     "metadata": {},
     "output_type": "execute_result"
    }
   ],
   "source": [
    "df = pd.read_csv(\"test_run_with_confidence.csv\")\n",
    "df.columns"
   ]
  },
  {
   "cell_type": "code",
   "execution_count": 143,
   "metadata": {},
   "outputs": [],
   "source": [
    "\n",
    "def get_pred_code(string):\n",
    "    pred_codes = []\n",
    "    cond = ast.literal_eval(string)\n",
    "    for item in cond:\n",
    "        pred_codes.append(item[\"icd10_code\"])\n",
    "    return pred_codes\n",
    "\n",
    "def get_reference_codes(string):\n",
    "    reference_codes = []\n",
    "    lines = string.split(\"\\n\")\n",
    "    for l in lines:\n",
    "        reference_codes.append(l.split(\" \")[0])\n",
    "    return reference_codes"
   ]
  },
  {
   "cell_type": "code",
   "execution_count": 144,
   "metadata": {},
   "outputs": [
    {
     "data": {
      "text/plain": [
       "'F32.A Depression with suicidal ideation\\nF41.9 Anxiety\\nR44.0 Auditory hallucinations\\nF43.10 PTSD (post-traumatic stress disorder)'"
      ]
     },
     "execution_count": 144,
     "metadata": {},
     "output_type": "execute_result"
    }
   ],
   "source": [
    "df.reference_answer.iloc[28]"
   ]
  },
  {
   "cell_type": "code",
   "execution_count": 145,
   "metadata": {},
   "outputs": [
    {
     "data": {
      "text/plain": [
       "{'reasoning': 'The patient has type 2 diabetes mellitus that is poorly controlled, with chronic hyperglycemia (A1c ~12%, blood sugars around 200 mg/dL) and previous insulin use. E11.65 specifically denotes type 2 diabetes mellitus with hyperglycemia, which directly applies to this case.',\n",
       " 'icd10_code': 'E11.65',\n",
       " 'icd10_condition_name': 'Type 2 diabetes mellitus with hyperglycemia',\n",
       " 'confidence_reasoning': 'The transcript specifically documents poorly controlled type 2 diabetes with persistent hyperglycemia and A1c ≈ 12%. The code E11.65 directly matches the documented diagnosis and is supported by both the transcript and ICD-10 lookup. No ambiguity.',\n",
       " 'confidence': 'confident'}"
      ]
     },
     "execution_count": 145,
     "metadata": {},
     "output_type": "execute_result"
    }
   ],
   "source": [
    "cond = ast.literal_eval(df.entries.iloc[0])\n",
    "cond[0]"
   ]
  },
  {
   "cell_type": "code",
   "execution_count": 146,
   "metadata": {},
   "outputs": [],
   "source": [
    "def compute_precision_recall(predicted_codes, reference_codes):\n",
    "    \"\"\"\n",
    "    Compute precision and recall for ICD-10 code predictions\n",
    "    \n",
    "    Args:\n",
    "        predicted_codes: List of predicted ICD-10 codes\n",
    "        reference_codes: List of reference/ground truth ICD-10 codes\n",
    "    \n",
    "    Returns:\n",
    "        tuple: (precision, recall, f1_score)\n",
    "    \"\"\"\n",
    "    # Convert to sets for easier comparison\n",
    "    pred_set = set(predicted_codes)\n",
    "    ref_set = set(reference_codes)\n",
    "    \n",
    "    # Calculate true positives (intersection)\n",
    "    true_positives = len(pred_set.intersection(ref_set))\n",
    "    \n",
    "    # Calculate precision: TP / (TP + FP) = TP / total_predicted\n",
    "    precision = true_positives / len(pred_set) if len(pred_set) > 0 else 0\n",
    "    \n",
    "    # Calculate recall: TP / (TP + FN) = TP / total_reference\n",
    "    recall = true_positives / len(ref_set) if len(ref_set) > 0 else 0\n",
    "    \n",
    "    # Calculate F1 score: 2 * (precision * recall) / (precision + recall)\n",
    "    f1_score = 2 * (precision * recall) / (precision + recall) if (precision + recall) > 0 else 0\n",
    "    \n",
    "    return precision, recall, f1_score\n"
   ]
  },
  {
   "cell_type": "code",
   "execution_count": 147,
   "metadata": {},
   "outputs": [
    {
     "name": "stdout",
     "output_type": "stream",
     "text": [
      "Predicted codes: ['F90.9', 'Z51.89']\n",
      "Reference codes: ['F90.9', 'F91.3']\n",
      "\n",
      "Metrics:\n",
      "Precision: 0.500\n",
      "Recall: 0.500\n",
      "F1 Score: 0.500\n",
      "\n",
      "Matched codes: ['F90.9']\n",
      "Missed codes (in reference but not predicted): ['F91.3']\n",
      "Extra codes (predicted but not in reference): ['Z51.89']\n"
     ]
    }
   ],
   "source": [
    "index = 2\n",
    "predicted_codes = get_pred_code(df.entries.iloc[index])\n",
    "reference_codes = get_reference_codes(df.reference_answer.iloc[index])\n",
    "\n",
    "# Compute metrics\n",
    "precision, recall, f1 = compute_precision_recall(predicted_codes, reference_codes)\n",
    "\n",
    "print(f\"Predicted codes: {predicted_codes}\")\n",
    "print(f\"Reference codes: {reference_codes}\")\n",
    "print(f\"\\nMetrics:\")\n",
    "print(f\"Precision: {precision:.3f}\")\n",
    "print(f\"Recall: {recall:.3f}\")\n",
    "print(f\"F1 Score: {f1:.3f}\")\n",
    "\n",
    "# Show which codes matched\n",
    "matched_codes = set(predicted_codes).intersection(set(reference_codes))\n",
    "print(f\"\\nMatched codes: {list(matched_codes)}\")\n",
    "print(f\"Missed codes (in reference but not predicted): {list(set(reference_codes) - set(predicted_codes))}\")\n",
    "print(f\"Extra codes (predicted but not in reference): {list(set(predicted_codes) - set(reference_codes))}\")"
   ]
  },
  {
   "cell_type": "code",
   "execution_count": 148,
   "metadata": {},
   "outputs": [
    {
     "name": "stdout",
     "output_type": "stream",
     "text": [
      "Dataset Evaluation Results:\n",
      "Total rows: 33\n",
      "Processed rows: 33\n",
      "Skipped rows (empty entries): 0\n",
      "Empty entry indices: []\n",
      "\n",
      "Overall Metrics:\n",
      "Average Precision: 0.393\n",
      "Average Recall: 0.459\n",
      "Average F1 Score: 0.398\n",
      "\n",
      "Empty indices: []\n"
     ]
    }
   ],
   "source": [
    "def evaluate_entire_dataset(df):\n",
    "    \"\"\"\n",
    "    Evaluate precision, recall, and F1 for the entire dataset,\n",
    "    skipping rows where entries are empty\n",
    "    \"\"\"\n",
    "    all_precisions = []\n",
    "    all_recalls = []\n",
    "    all_f1_scores = []\n",
    "    skipped_count = 0\n",
    "    processed_count = 0\n",
    "    empty_indices = []  # Track indices of empty entries\n",
    "    \n",
    "    for index, row in df.iterrows():\n",
    "        try:\n",
    "            # Check if entries is empty or evaluates to empty list\n",
    "            entries_eval = ast.literal_eval(row['entries'])\n",
    "            if len(entries_eval) == 0:\n",
    "                skipped_count += 1\n",
    "                empty_indices.append(index)  # Store the index\n",
    "                continue\n",
    "                \n",
    "            # Get predicted and reference codes\n",
    "            predicted_codes = get_pred_code(row['entries'])\n",
    "            reference_codes = get_reference_codes(row['reference_answer'])\n",
    "            \n",
    "            # Compute metrics for this row\n",
    "            precision, recall, f1 = compute_precision_recall(predicted_codes, reference_codes)\n",
    "            \n",
    "            all_precisions.append(precision)\n",
    "            all_recalls.append(recall)\n",
    "            all_f1_scores.append(f1)\n",
    "            processed_count += 1\n",
    "            \n",
    "        except Exception as e:\n",
    "            print(f\"Error processing row {index}: {e}\")\n",
    "            skipped_count += 1\n",
    "            empty_indices.append(index)  # Also track error indices\n",
    "            continue\n",
    "    \n",
    "    # Calculate overall metrics\n",
    "    avg_precision = sum(all_precisions) / len(all_precisions) if all_precisions else 0\n",
    "    avg_recall = sum(all_recalls) / len(all_recalls) if all_recalls else 0\n",
    "    avg_f1 = sum(all_f1_scores) / len(all_f1_scores) if all_f1_scores else 0\n",
    "    \n",
    "    print(f\"Dataset Evaluation Results:\")\n",
    "    print(f\"Total rows: {len(df)}\")\n",
    "    print(f\"Processed rows: {processed_count}\")\n",
    "    print(f\"Skipped rows (empty entries): {skipped_count}\")\n",
    "    print(f\"Empty entry indices: {empty_indices}\")\n",
    "    print(f\"\\nOverall Metrics:\")\n",
    "    print(f\"Average Precision: {avg_precision:.3f}\")\n",
    "    print(f\"Average Recall: {avg_recall:.3f}\")\n",
    "    print(f\"Average F1 Score: {avg_f1:.3f}\")\n",
    "    \n",
    "    return {\n",
    "        'avg_precision': avg_precision,\n",
    "        'avg_recall': avg_recall,\n",
    "        'avg_f1': avg_f1,\n",
    "        'processed_count': processed_count,\n",
    "        'skipped_count': skipped_count,\n",
    "        'empty_indices': empty_indices,  # Added this\n",
    "        'individual_precisions': all_precisions,\n",
    "        'individual_recalls': all_recalls,\n",
    "        'individual_f1_scores': all_f1_scores\n",
    "    }\n",
    "\n",
    "# Run the evaluation\n",
    "results = evaluate_entire_dataset(df)\n",
    "\n",
    "# You can also access the empty indices directly:\n",
    "print(f\"\\nEmpty indices: {results['empty_indices']}\")"
   ]
  },
  {
   "cell_type": "code",
   "execution_count": 149,
   "metadata": {},
   "outputs": [
    {
     "name": "stderr",
     "output_type": "stream",
     "text": [
      "/var/folders/w2/k_w1k3713q94fld1rfljqzdc0000gn/T/ipykernel_90581/698589954.py:20: FutureWarning: \n",
      "\n",
      "Passing `palette` without assigning `hue` is deprecated and will be removed in v0.14.0. Assign the `x` variable to `hue` and set `legend=False` for the same effect.\n",
      "\n",
      "  ax = sns.boxplot(data=plot_df, x='Metric', y='Score',\n"
     ]
    },
    {
     "data": {
      "image/png": "[encoded data removed]",
      "text/plain": [
       "<Figure size 1200x800 with 1 Axes>"
      ]
     },
     "metadata": {},
     "output_type": "display_data"
    },
    {
     "name": "stdout",
     "output_type": "stream",
     "text": [
      "\n",
      "============================================================\n",
      "SUMMARY STATISTICS\n",
      "============================================================\n",
      "\n",
      "PRECISION:\n",
      "  Mean:   0.393\n",
      "  Median: 0.500\n",
      "  Std:    0.263\n",
      "  Range:  0.000 - 1.000\n",
      "  Count:  33\n",
      "\n",
      "RECALL:\n",
      "  Mean:   0.459\n",
      "  Median: 0.429\n",
      "  Std:    0.340\n",
      "  Range:  0.000 - 1.000\n",
      "  Count:  33\n",
      "\n",
      "F1 SCORE:\n",
      "  Mean:   0.398\n",
      "  Median: 0.444\n",
      "  Std:    0.256\n",
      "  Range:  0.000 - 1.000\n",
      "  Count:  33\n"
     ]
    }
   ],
   "source": [
    "# Create a DataFrame from your results for plotting\n",
    "metrics_data = {\n",
    "    'Precision': results['individual_precisions'],\n",
    "    'Recall': results['individual_recalls'], \n",
    "    'F1 Score': results['individual_f1_scores']\n",
    "}\n",
    "\n",
    "# Convert to long format for seaborn\n",
    "plot_data = []\n",
    "for metric, values in metrics_data.items():\n",
    "    for value in values:\n",
    "        plot_data.append({'Metric': metric, 'Score': value})\n",
    "\n",
    "plot_df = pd.DataFrame(plot_data)\n",
    "\n",
    "# Create the box plot with individual points\n",
    "plt.figure(figsize=(12, 8))\n",
    "\n",
    "# Create the box plot with better styling\n",
    "ax = sns.boxplot(data=plot_df, x='Metric', y='Score', \n",
    "                 palette='Set2', width=0.6, linewidth=2)\n",
    "\n",
    "# Add individual points (strip plot) on top\n",
    "sns.stripplot(data=plot_df, x='Metric', y='Score', \n",
    "              color='black', alpha=0.6, size=6, jitter=True)\n",
    "\n",
    "# Customize the plot\n",
    "plt.title('Distribution of Precision, Recall, and F1 Scores', \n",
    "          fontsize=16, fontweight='bold', pad=20)\n",
    "plt.xlabel('Metric', fontsize=14, fontweight='bold')\n",
    "plt.ylabel('Score', fontsize=14, fontweight='bold')\n",
    "plt.ylim(-0.05, 1.05)  # Set y-axis limits with some padding\n",
    "\n",
    "# Add grid for better readability\n",
    "plt.grid(True, alpha=0.3, linestyle='--')\n",
    "\n",
    "# Customize tick labels\n",
    "plt.xticks(fontsize=12)\n",
    "plt.yticks(fontsize=12)\n",
    "\n",
    "# Add a subtle background color\n",
    "ax.set_facecolor('#f8f9fa')\n",
    "\n",
    "# Remove top and right spines for cleaner look\n",
    "sns.despine()\n",
    "\n",
    "plt.tight_layout()\n",
    "plt.show()\n",
    "\n",
    "# Print summary statistics in a nicer format\n",
    "print(\"\\n\" + \"=\"*60)\n",
    "print(\"SUMMARY STATISTICS\")\n",
    "print(\"=\"*60)\n",
    "for metric, values in metrics_data.items():\n",
    "    print(f\"\\n{metric.upper()}:\")\n",
    "    print(f\"  Mean:   {np.mean(values):.3f}\")\n",
    "    print(f\"  Median: {np.median(values):.3f}\")\n",
    "    print(f\"  Std:    {np.std(values):.3f}\")\n",
    "    print(f\"  Range:  {np.min(values):.3f} - {np.max(values):.3f}\")\n",
    "    print(f\"  Count:  {len(values)}\")"
   ]
  },
  {
   "cell_type": "code",
   "execution_count": null,
   "metadata": {},
   "outputs": [],
   "source": []
  }
 ],
 "metadata": {
  "kernelspec": {
   "display_name": "Python 3",
   "language": "python",
   "name": "python3"
  },
  "language_info": {
   "codemirror_mode": {
    "name": "ipython",
    "version": 3
   },
   "file_extension": ".py",
   "mimetype": "text/x-python",
   "name": "python",
   "nbconvert_exporter": "python",
   "pygments_lexer": "ipython3",
   "version": "3.11.12"
  }
 },
 "nbformat": 4,
 "nbformat_minor": 2
}
